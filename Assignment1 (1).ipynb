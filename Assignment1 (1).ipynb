{
 "cells": [
  {
   "cell_type": "code",
   "execution_count": 2,
   "metadata": {},
   "outputs": [
    {
     "name": "stdout",
     "output_type": "stream",
     "text": [
      "3.7333333333333334\n"
     ]
    }
   ],
   "source": [
    "x = 5\n",
    "res = (x**2 + 5*x + 6)/(2*x + 5)\n",
    "print(res)"
   ]
  },
  {
   "cell_type": "code",
   "execution_count": 3,
   "metadata": {},
   "outputs": [
    {
     "name": "stdout",
     "output_type": "stream",
     "text": [
      "98\n"
     ]
    }
   ],
   "source": [
    "x = 5\n",
    "y = (2*x - 3)* (x + 9)\n",
    "print(y)\n"
   ]
  },
  {
   "cell_type": "code",
   "execution_count": 1,
   "metadata": {},
   "outputs": [
    {
     "name": "stdout",
     "output_type": "stream",
     "text": [
      "0.26785714285714285\n"
     ]
    }
   ],
   "source": [
    "x = 5\n",
    "res = ((2*x+5)/(x**2+5*x+6))\n",
    "print(res)"
   ]
  },
  {
   "cell_type": "code",
   "execution_count": 6,
   "metadata": {},
   "outputs": [
    {
     "name": "stdout",
     "output_type": "stream",
     "text": [
      "enter usernamea\n",
      "enter passworda\n",
      "password and username is not matching, try again!!\n",
      "enter usernamea\n",
      "enter passworda\n",
      "password and username is not matching, try again!!\n",
      "enter usernamea\n",
      "enter passworda\n",
      "password and username is not matching, try again!!\n",
      "enter usernamea\n",
      "enter passworda\n",
      "password and username is not matching, try again!!\n",
      "your account has been blocked\n"
     ]
    }
   ],
   "source": [
    "username = \"India\"\n",
    "password = \"India123\"\n",
    "count = 0\n",
    "while count < 4:\n",
    "   username = input(\"enter username\")\n",
    "   password = input(\"enter password\")\n",
    "   if username == \"India\" and password == \"India123\":\n",
    "       print(\"login successful\")\n",
    "   elif username != \"India\" and password != \"India123\":\n",
    "       print(\"password and username is not matching, try again!!\")\n",
    "       count = count + 1\n",
    "       if count == 4:\n",
    "          print(\"your account has been blocked\")\n",
    "        "
   ]
  },
  {
   "cell_type": "code",
   "execution_count": null,
   "metadata": {},
   "outputs": [],
   "source": []
  }
 ],
 "metadata": {
  "kernelspec": {
   "display_name": "Python 3",
   "language": "python",
   "name": "python3"
  }
 },
 "nbformat": 4,
 "nbformat_minor": 2
}
