{
 "cells": [
  {
   "cell_type": "code",
   "execution_count": 5,
   "metadata": {},
   "outputs": [
    {
     "name": "stdout",
     "output_type": "stream",
     "text": [
      "['a', 'b', 'c']\n"
     ]
    }
   ],
   "source": [
    "def my_function(x):\n",
    "  return list(dict.fromkeys(x))\n",
    "\n",
    "mylist = my_function([\"a\", \"b\", \"a\", \"c\", \"c\"])\n",
    "\n",
    "print(mylist)"
   ]
  },
  {
   "cell_type": "code",
   "execution_count": 5,
   "metadata": {},
   "outputs": [
    {
     "name": "stdout",
     "output_type": "stream",
     "text": [
      "[9, 3, 5, 8, 2, 4, 6]\n"
     ]
    }
   ],
   "source": [
    "list1 = [1, 3, 5, 7, 9]\n",
    "list2=[1, 2, 4, 6, 7, 8]\n",
    "diff_list1_list2 = list(set(list1) - set(list2))\n",
    "diff_list2_list1 = list(set(list2) - set(list1))\n",
    "total_diff = diff_list1_list2 + diff_list2_list1\n",
    "print(total_diff)"
   ]
  },
  {
   "cell_type": "code",
   "execution_count": 11,
   "metadata": {},
   "outputs": [
    {
     "name": "stdout",
     "output_type": "stream",
     "text": [
      "{1: 5, 5: 2, 3: 3, 4: 3, 2: 4}\n"
     ]
    }
   ],
   "source": [
    "def CountFrequency(my_list): \n",
    "   count = {} \n",
    "   for i in [1, 1, 1, 5, 5, 3, 1, 3, 3, 1 ,4, 4, 4, 2, 2, 2, 2]: \n",
    "    count[i] = count.get(i, 0) + 1\n",
    "   return count \n",
    "\n",
    "if __name__ == \"__main__\":  \n",
    "    my_list =[1, 1, 1, 5, 5, 3, 1, 3, 3, 1, 4, 4, 4, 2, 2, 2, 2] \n",
    "    print(CountFrequency(my_list)) "
   ]
  },
  {
   "cell_type": "code",
   "execution_count": 12,
   "metadata": {},
   "outputs": [
    {
     "name": "stdout",
     "output_type": "stream",
     "text": [
      "['red', 'orange', 'white', 'black', 'yellow']\n"
     ]
    }
   ],
   "source": [
    "def Diff(li1, li2):\n",
    "    li_dif = [i for i in li1 + li2 if i not in li1 or i not in li2]\n",
    "    return li_dif\n",
    " \n",
    "\n",
    "li1 = [\"red\", \"orange\", \"green\", \"blue\", \"white\"]\n",
    "li2 = [\"black\", \"yellow\", \"green\", \"blue\"]\n",
    "li3 = Diff(li1, li2)\n",
    "print(li3)"
   ]
  },
  {
   "cell_type": "code",
   "execution_count": 13,
   "metadata": {},
   "outputs": [
    {
     "name": "stdout",
     "output_type": "stream",
     "text": [
      "\n",
      "Longest word:  Exercises\n",
      "Length of the longest word:  9\n"
     ]
    }
   ],
   "source": [
    "def find_longest_word(words_list):\n",
    "    word_len = []\n",
    "    for n in words_list:\n",
    "        word_len.append((len(n), n))\n",
    "    word_len.sort()\n",
    "    return word_len[-1][0], word_len[-1][1]\n",
    "result = find_longest_word([\"PHP\", \"Exercises\", \"Backend\"])\n",
    "print(\"\\nLongest word: \",result[1])\n",
    "print(\"Length of the longest word: \",result[0])"
   ]
  },
  {
   "cell_type": "code",
   "execution_count": 14,
   "metadata": {},
   "outputs": [
    {
     "name": "stdout",
     "output_type": "stream",
     "text": [
      "{'the': 2, 'quick': 1, 'brown': 1, 'fox': 1, 'jumps': 1, 'over': 1, 'lazy': 1, 'dog.': 1}\n"
     ]
    }
   ],
   "source": [
    "def word_count(str):\n",
    "    counts = dict()\n",
    "    words = str.split()\n",
    "\n",
    "    for word in words:\n",
    "        if word in counts:\n",
    "            counts[word] += 1\n",
    "        else:\n",
    "            counts[word] = 1\n",
    "\n",
    "    return counts\n",
    "\n",
    "print( word_count('the quick brown fox jumps over the lazy dog.'))"
   ]
  },
  {
   "cell_type": "code",
   "execution_count": 15,
   "metadata": {},
   "outputs": [
    {
     "name": "stdout",
     "output_type": "stream",
     "text": [
      "7\n",
      "['a', 'e', 'I', 'a', 'u', 'a', 'i']\n"
     ]
    }
   ],
   "source": [
    "def vowel(text):\n",
    "    vowels = \"aeiuoAEIOU\"\n",
    "    print(len([letter for letter in text if letter in vowels]))\n",
    "    print([letter for letter in text if letter in vowels])\n",
    "vowel('MyNameISBabluPandit');"
   ]
  },
  {
   "cell_type": "code",
   "execution_count": 17,
   "metadata": {},
   "outputs": [
    {
     "name": "stdout",
     "output_type": "stream",
     "text": [
      "Input a number 12\n",
      "{1: 1, 2: 4, 3: 9, 4: 16, 5: 25, 6: 36, 7: 49, 8: 64, 9: 81, 10: 100, 11: 121, 12: 144}\n"
     ]
    }
   ],
   "source": [
    "n=int(input(\"Input a number \"))\n",
    "d = dict()\n",
    "\n",
    "for x in range(1,n+1):\n",
    "    d[x]=x*x\n",
    "\n",
    "print(d)"
   ]
  },
  {
   "cell_type": "code",
   "execution_count": 18,
   "metadata": {},
   "outputs": [
    {
     "name": "stdout",
     "output_type": "stream",
     "text": [
      "{'a': 400, 'b': 400, 'd': 400}\n"
     ]
    }
   ],
   "source": [
    "dict1 = {'a': 100, 'b': 200, 'c':300}  \n",
    "dict2 = {'a': 300, 'b': 200, 'd':400} \n",
    "   \n",
    "for key in dict2: \n",
    "    if key in dict1: \n",
    "        dict2[key] = dict2[key] + dict1[key] \n",
    "    else: \n",
    "        pass\n",
    "          \n",
    "print(dict2)"
   ]
  },
  {
   "cell_type": "code",
   "execution_count": 19,
   "metadata": {},
   "outputs": [
    {
     "name": "stdout",
     "output_type": "stream",
     "text": [
      "Original List:  [{'V': 'S001'}, {'V': 'S002'}, {'VI': 'S001'}, {'VI': 'S005'}, {'VII': 'S005'}, {'V': 'S009'}, {'VIII': 'S007'}]\n",
      "Unique Values:  {'S007', 'S001', 'S005', 'S002', 'S009'}\n"
     ]
    }
   ],
   "source": [
    "L = [{\"V\":\"S001\"}, {\"V\": \"S002\"}, {\"VI\": \"S001\"}, {\"VI\": \"S005\"}, {\"VII\":\"S005\"}, {\"V\":\"S009\"},{\"VIII\":\"S007\"}]\n",
    "print(\"Original List: \",L)\n",
    "u_value = set( val for dic in L for val in dic.values())\n",
    "print(\"Unique Values: \",u_value)"
   ]
  },
  {
   "cell_type": "code",
   "execution_count": null,
   "metadata": {},
   "outputs": [],
   "source": []
  }
 ],
 "metadata": {
  "kernelspec": {
   "display_name": "Python 3",
   "language": "python",
   "name": "python3"
  },
  "language_info": {
   "codemirror_mode": {
    "name": "ipython",
    "version": 3
   },
   "file_extension": ".py",
   "mimetype": "text/x-python",
   "name": "python",
   "nbconvert_exporter": "python",
   "pygments_lexer": "ipython3",
   "version": "3.7.3"
  }
 },
 "nbformat": 4,
 "nbformat_minor": 2
}
